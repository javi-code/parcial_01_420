{
  "nbformat": 4,
  "nbformat_minor": 0,
  "metadata": {
    "colab": {
      "provenance": []
    },
    "kernelspec": {
      "name": "python3",
      "display_name": "Python 3"
    },
    "language_info": {
      "name": "python"
    }
  },
  "cells": [
    {
      "cell_type": "code",
      "execution_count": 171,
      "metadata": {
        "id": "NXWIqmfmOjfq"
      },
      "outputs": [],
      "source": [
        "import os\n",
        "import numpy as np\n",
        "import pandas as pd\n",
        "\n",
        "from datetime import datetime\n",
        "from sklearn.preprocessing import LabelEncoder\n",
        "\n",
        "from matplotlib import pyplot\n",
        "from mpl_toolkits.mplot3d import Axes3D\n",
        "%matplotlib inline"
      ]
    },
    {
      "cell_type": "code",
      "source": [
        "\n",
        "!ls\n",
        "%mkdir data\n",
        "!ls\n",
        "\n",
        "import shutil\n",
        "from google.colab import drive\n",
        "drive.mount('/content/drive')\n"
      ],
      "metadata": {
        "colab": {
          "base_uri": "https://localhost:8080/"
        },
        "id": "6C8i5E8C75QD",
        "outputId": "99935290-cf60-416d-abc0-b4d2fe4c275b"
      },
      "execution_count": 172,
      "outputs": [
        {
          "output_type": "stream",
          "name": "stdout",
          "text": [
            "data  drive  sample_data\n",
            "mkdir: cannot create directory ‘data’: File exists\n",
            "data  drive  sample_data\n",
            "Drive already mounted at /content/drive; to attempt to forcibly remount, call drive.mount(\"/content/drive\", force_remount=True).\n"
          ]
        }
      ]
    },
    {
      "cell_type": "code",
      "source": [
        "## dataset 44\n",
        "## https://www.kaggle.com/datasets/abhijitdahatonde/real-time-latest-covid-19-dataset"
      ],
      "metadata": {
        "id": "Nz5oNeg9YFRa"
      },
      "execution_count": 173,
      "outputs": []
    },
    {
      "cell_type": "code",
      "source": [
        "shutil.copy(\"/content/drive/MyDrive/sis_420/examen/covid.csv\",\"/content/data/datos.csv\")\n",
        "\n",
        "data = pd.read_csv( os.path.join('data', 'datos.csv') )\n"
      ],
      "metadata": {
        "id": "F6olxJF18C4C"
      },
      "execution_count": 174,
      "outputs": []
    },
    {
      "cell_type": "code",
      "source": [
        "data.drop(columns=data.columns[0], axis=1, inplace=True) #elimino la col SR. No\n",
        "data.drop(columns=data.columns[0], axis=1, inplace=True) #elimino la col Country/other\n",
        "\n",
        "#datos.head()\n",
        "data.info() # informacion y verificar que todos los datos esten completos"
      ],
      "metadata": {
        "colab": {
          "base_uri": "https://localhost:8080/"
        },
        "id": "ykoCCwghOmtO",
        "outputId": "407a44d6-4e53-4f9e-ecc6-993a5e91eacc"
      },
      "execution_count": 175,
      "outputs": [
        {
          "output_type": "stream",
          "name": "stdout",
          "text": [
            "<class 'pandas.core.frame.DataFrame'>\n",
            "RangeIndex: 230 entries, 0 to 229\n",
            "Data columns (total 7 columns):\n",
            " #   Column           Non-Null Count  Dtype\n",
            "---  ------           --------------  -----\n",
            " 0   Total_cases      230 non-null    int64\n",
            " 1   Total_deaths     230 non-null    int64\n",
            " 2   Total_recovered  230 non-null    int64\n",
            " 3   Active_cases     230 non-null    int64\n",
            " 4   Serious_cases    230 non-null    int64\n",
            " 5   Total_tests      230 non-null    int64\n",
            " 6   Population       230 non-null    int64\n",
            "dtypes: int64(7)\n",
            "memory usage: 12.7 KB\n"
          ]
        }
      ]
    },
    {
      "cell_type": "code",
      "source": [
        "col = data.pop(\"Active_cases\")\n",
        "data.insert(len(data.columns), \"Active_cases\", col)\n"
      ],
      "metadata": {
        "id": "kU9osAESPkm3"
      },
      "execution_count": 176,
      "outputs": []
    },
    {
      "cell_type": "code",
      "source": [
        "\n",
        "data.info()\n",
        "# print(data)\n",
        "X = data.iloc[:, :6].values\n",
        "y = data.iloc[:, 6].values\n",
        "m = y.size\n",
        "#\n",
        "x_nrm = X.copy()\n",
        "print(X)\n",
        "print('='*25)\n",
        "print(y)"
      ],
      "metadata": {
        "colab": {
          "base_uri": "https://localhost:8080/"
        },
        "id": "eWxNrI74RvhI",
        "outputId": "569184e1-2887-4303-8491-d49ce769b164"
      },
      "execution_count": 177,
      "outputs": [
        {
          "output_type": "stream",
          "name": "stdout",
          "text": [
            "<class 'pandas.core.frame.DataFrame'>\n",
            "RangeIndex: 230 entries, 0 to 229\n",
            "Data columns (total 7 columns):\n",
            " #   Column           Non-Null Count  Dtype\n",
            "---  ------           --------------  -----\n",
            " 0   Total_cases      230 non-null    int64\n",
            " 1   Total_deaths     230 non-null    int64\n",
            " 2   Total_recovered  230 non-null    int64\n",
            " 3   Serious_cases    230 non-null    int64\n",
            " 4   Total_tests      230 non-null    int64\n",
            " 5   Population       230 non-null    int64\n",
            " 6   Active_cases     230 non-null    int64\n",
            "dtypes: int64(7)\n",
            "memory usage: 12.7 KB\n",
            "[[ 107715650    1171803  105773383        894 1181246915  334805269]\n",
            " [  44996198     531920   44462773          0  930797975 1406631776]\n",
            " [  40138560     167642   39970918        869  271490188   65584518]\n",
            " ...\n",
            " [        80          0          0          0          0       1378]\n",
            " [        29          0         29          0          0        799]\n",
            " [        10          1          9          0          0     626161]]\n",
            "=========================\n",
            "[ 770464    1505       0   13733  784999       0  614164  115587    5032\n",
            "  146251       0   30634    5118  938591       0       0       0  413641\n",
            "   93261    4886 1062749   44356       0    3811    2540       0     359\n",
            "   13361   20237    1366       0   28370    6203     250       0     802\n",
            "    3630   61362    1501     199    4140       0     414  366857     673\n",
            "    3192    2279   16938       0   54693    1868    1497   11954     316\n",
            "     499   14963     158     393    1494    2845     160    3437  368744\n",
            "  140029    8350       0      75     136   10156     152     196      10\n",
            "      45    1327     474    3900      12       0     645       8   17879\n",
            "    3204       0    1699     159  104580   91476     302   49228     147\n",
            "       0  118977    5252   67095       0    5380    7617   10152    3902\n",
            "    1629     920    1696     344    2037   66280     498   81910    3567\n",
            "    1093   10539    2369       0   12052       0       0    7500       0\n",
            "   18145      28   22684     801      23   67666   49232       2      79\n",
            "     309     706     236      31     168   86367   11740      19     498\n",
            "       6       0       3       0     339      73       9    1006       2\n",
            "      82      71     247    1106       0     627      15      11     287\n",
            "    2212     971    1494       0     681       0       4     338     874\n",
            "       0    8087       0      74      76   22882     548       4   12791\n",
            "       0     983       0       8     220      64      27    3858      97\n",
            "      10   14041     115     397     139     812    1168   15139       2\n",
            "      13      74      55   10098      65   10862      29    9189     662\n",
            "    1168      54       0     729      14     508       9       6      12\n",
            "       0    2633       0       0      15       0       0      62       0\n",
            "      45    2355      13    3104    1001    2942    2164       0      19\n",
            "       4       0      80       0       0]\n"
          ]
        }
      ]
    },
    {
      "cell_type": "code",
      "source": [
        "def  featureNormalize(X):\n",
        "    X_norm = X.copy()\n",
        "    mu = np.zeros(X.shape[1])\n",
        "    sigma = np.zeros(X.shape[1])\n",
        "\n",
        "    mu = np.mean(X, axis = 0)\n",
        "    sigma = np.std(X, axis = 0)\n",
        "    X_norm = (X - mu) / sigma\n",
        "\n",
        "    return X_norm, mu, sigma"
      ],
      "metadata": {
        "id": "knU5EgF0SkT3"
      },
      "execution_count": 178,
      "outputs": []
    },
    {
      "cell_type": "code",
      "source": [
        "# Normalizamos los datos cargados\n",
        "X_norm, mu, sigma = featureNormalize(X)\n",
        "\n",
        "print(X)\n",
        "print('Media calculada:', mu)\n",
        "print('Desviación estandar calculada:', sigma)\n",
        "print(X_norm)"
      ],
      "metadata": {
        "colab": {
          "base_uri": "https://localhost:8080/"
        },
        "id": "7O8PCgNySnjJ",
        "outputId": "6ae092a3-4b4b-4d31-94a4-35666db14d42"
      },
      "execution_count": 179,
      "outputs": [
        {
          "output_type": "stream",
          "name": "stdout",
          "text": [
            "[[ 107715650    1171803  105773383        894 1181246915  334805269]\n",
            " [  44996198     531920   44462773          0  930797975 1406631776]\n",
            " [  40138560     167642   39970918        869  271490188   65584518]\n",
            " ...\n",
            " [        80          0          0          0          0       1378]\n",
            " [        29          0         29          0          0        799]\n",
            " [        10          1          9          0          0     626161]]\n",
            "Media calculada: [3.01381687e+06 3.00305348e+04 2.71520852e+06 2.89130435e+01\n",
            " 3.04323251e+07 3.45431962e+07]\n",
            "Desviación estandar calculada: [9.76809621e+06 1.06580221e+05 9.35343625e+06 1.05361495e+02\n",
            " 1.14937868e+08 1.38052231e+08]\n",
            "[[10.71875531 10.71279877 11.01821531  8.21065568 10.01249295  2.17498891]\n",
            " [ 4.29790823  4.70903005  4.46333982 -0.27441755  7.83349882  9.9389091 ]\n",
            " [ 3.80061194  1.29115387  3.98310401  7.97337734  2.09728846  0.22485201]\n",
            " ...\n",
            " [-0.30852858 -0.28176461 -0.29028995 -0.27441755 -0.26477197 -0.25020833]\n",
            " [-0.3085338  -0.28176461 -0.29028685 -0.27441755 -0.26477197 -0.25021252]\n",
            " [-0.30853575 -0.28175523 -0.29028899 -0.27441755 -0.26477197 -0.24568263]]\n"
          ]
        }
      ]
    },
    {
      "cell_type": "code",
      "source": [
        "# Añade el termino de interseccion a X (cols de 1)\n",
        "x_read = np.concatenate([np.ones((m, 1)), X_norm], axis=1)\n",
        "print(x_read)"
      ],
      "metadata": {
        "id": "a4g0fAtMSs3C",
        "colab": {
          "base_uri": "https://localhost:8080/"
        },
        "outputId": "c181f44f-d77c-4de6-d0bb-4a0e43c0b71a"
      },
      "execution_count": 180,
      "outputs": [
        {
          "output_type": "stream",
          "name": "stdout",
          "text": [
            "[[ 1.         10.71875531 10.71279877 ...  8.21065568 10.01249295\n",
            "   2.17498891]\n",
            " [ 1.          4.29790823  4.70903005 ... -0.27441755  7.83349882\n",
            "   9.9389091 ]\n",
            " [ 1.          3.80061194  1.29115387 ...  7.97337734  2.09728846\n",
            "   0.22485201]\n",
            " ...\n",
            " [ 1.         -0.30852858 -0.28176461 ... -0.27441755 -0.26477197\n",
            "  -0.25020833]\n",
            " [ 1.         -0.3085338  -0.28176461 ... -0.27441755 -0.26477197\n",
            "  -0.25021252]\n",
            " [ 1.         -0.30853575 -0.28175523 ... -0.27441755 -0.26477197\n",
            "  -0.24568263]]\n"
          ]
        }
      ]
    },
    {
      "cell_type": "code",
      "source": [
        "def computeCostMulti(X, y, theta):\n",
        "    m = y.shape[0]     # numero de ejemplos de entrenamiento\n",
        "    J = 0\n",
        "    h = np.dot(X, theta)\n",
        "    J = (1/(2 * m)) * np.sum(np.square(np.dot(X, theta) - y))\n",
        "    return J"
      ],
      "metadata": {
        "id": "GhHTx0MqS3zE"
      },
      "execution_count": 181,
      "outputs": []
    },
    {
      "cell_type": "code",
      "source": [
        "\n",
        "theta = np.array([1, 3.01381687e+06, 3.00305348e+04, 2.71520852e+06, 2.89130435e+01,  3.04323251e+07, 3.45431962e+07])\n",
        "JJ = computeCostMulti(x_read, y, theta)\n",
        "print(f\"con theta:{ theta } se obtiene un costo de: {JJ}\")\n"
      ],
      "metadata": {
        "colab": {
          "base_uri": "https://localhost:8080/"
        },
        "id": "gwEcQWG2_ISF",
        "outputId": "176c1eda-b7d5-4cb6-8666-f2ba77d7fbb3"
      },
      "execution_count": 182,
      "outputs": [
        {
          "output_type": "stream",
          "name": "stdout",
          "text": [
            "con theta:[1.00000000e+00 3.01381687e+06 3.00305348e+04 2.71520852e+06\n",
            " 2.89130435e+01 3.04323251e+07 3.45431962e+07] se obtiene un costo de: 1864829276087632.2\n"
          ]
        }
      ]
    },
    {
      "cell_type": "code",
      "source": [
        "# por el metodo de descenso por el gradiente"
      ],
      "metadata": {
        "id": "02H-zkcTTtqZ"
      },
      "execution_count": 183,
      "outputs": []
    },
    {
      "cell_type": "code",
      "source": [
        "def gradientDescentMulti(X, y, theta, alpha, num_iters):\n",
        "    m = y.shape[0]        # numero de ejemplos de entrenamiento\n",
        "    theta = theta.copy()  # realiza una copia de theta\n",
        "    J_history = []\n",
        "    for i in range(num_iters):\n",
        "        theta = theta - (alpha / m) * (np.dot(X, theta) - y).dot(X)\n",
        "        J_history.append(computeCostMulti(X, y, theta))\n",
        "    return theta, J_history"
      ],
      "metadata": {
        "id": "Iv-Ed9x7S806"
      },
      "execution_count": 184,
      "outputs": []
    },
    {
      "cell_type": "code",
      "source": [
        "# Elegimos el valor mas adecuado para ALPHA\n",
        "alpha = 0.002\n",
        "num_iters = 8000\n",
        "\n",
        "# Ejecutamos el descenso por el gradiente\n",
        "theta = np.zeros(7)\n",
        "theta, J_history = gradientDescentMulti(x_read, y, theta, alpha, num_iters)\n",
        "\n",
        "# Grafica la convergencia del costo\n",
        "pyplot.plot(np.arange(len(J_history)), J_history, lw=2)\n",
        "pyplot.xlabel('Numero de iteraciones')\n",
        "pyplot.ylabel('Costos')\n",
        "\n",
        "# Muestra los resultados del descenso por el gradiente\n",
        "print('theta calculado por el descenso por el gradiente: ')\n",
        "print( str(theta))\n",
        "\n",
        "# Valores la cantidad de infectados por covid\n",
        "X_array = [1, 3.01381687e+06, 3.00305348e+04, 2.71520852e+06, 2.89130435e+01,  3.04323251e+07, 3.45431962e+07]\n",
        "# X_array = [1, 40138560,\t167642,\t39970918,\t0,\t869,\t271490188\t]\n",
        "X_array[1:7] = (X_array[1:7] - mu) / sigma\n",
        "price = np.dot(X_array, theta)\n",
        "\n",
        "print('\\nEl valor predecido es por descenso por el gradiente: ', price)"
      ],
      "metadata": {
        "colab": {
          "base_uri": "https://localhost:8080/",
          "height": 552
        },
        "id": "4kB2GEUMTIj-",
        "outputId": "6f11939a-ae04-48d1-e184-ac3cbfca5e2e"
      },
      "execution_count": 185,
      "outputs": [
        {
          "output_type": "stream",
          "name": "stdout",
          "text": [
            "theta calculado por el descenso por el gradiente: \n",
            "[ 31696.48344624  29990.18499025  64820.42720863  41557.57258408\n",
            "  -9725.82989785 -71679.13407616   6782.73677548]\n",
            "\n",
            "El valor predecido es por descenso por el gradiente:  31696.483439220247\n"
          ]
        },
        {
          "output_type": "display_data",
          "data": {
            "text/plain": [
              "<Figure size 640x480 with 1 Axes>"
            ],
            "image/png": "[encoded data removed]"
          },
          "metadata": {}
        }
      ]
    },
    {
      "cell_type": "code",
      "source": [
        "# Ecuacion de la normal"
      ],
      "metadata": {
        "id": "zU6p_ZWCWOqP"
      },
      "execution_count": 186,
      "outputs": []
    },
    {
      "cell_type": "code",
      "source": [
        "def calcularThethaEcuacionNormal(X, y):\n",
        "    theta = np.zeros(X.shape[1])\n",
        "    theta = np.dot(np.dot(np.linalg.inv(np.dot(X.T,X)),X.T),y)\n",
        "    return theta"
      ],
      "metadata": {
        "id": "-V09G7qRUnNS"
      },
      "execution_count": 187,
      "outputs": []
    },
    {
      "cell_type": "code",
      "source": [
        "X_ren = np.concatenate([np.ones((m, 1)), x_nrm], axis=1)"
      ],
      "metadata": {
        "id": "HodGIZz-VS3o"
      },
      "execution_count": 188,
      "outputs": []
    },
    {
      "cell_type": "code",
      "source": [
        "theta = calcularThethaEcuacionNormal(X_ren, y);\n",
        "print(f\"los valores de theta calculados son: { theta }\")"
      ],
      "metadata": {
        "colab": {
          "base_uri": "https://localhost:8080/"
        },
        "id": "4iEC6jvnVTmA",
        "outputId": "b920b87e-f52d-45a7-ee10-fd8451698603"
      },
      "execution_count": 189,
      "outputs": [
        {
          "output_type": "stream",
          "name": "stdout",
          "text": [
            "los valores de theta calculados son: [ 1.20175369e+04  2.28808901e-03  6.13275913e-01  5.71229407e-03\n",
            " -9.51685436e+01 -6.73604291e-04  6.09947210e-05]\n"
          ]
        }
      ]
    },
    {
      "cell_type": "code",
      "source": [
        "# X_array = [1, 3.01381687e+06, 3.00305348e+04, 2.71520852e+06, 2.89130435e+01,  3.04323251e+07, 3.45431962e+07]\n",
        "\n",
        "X_array = [1, 191118, 2561760, 115587, 21,\t274511572, 60262770]\n",
        "infectados = np.dot(X_array, theta)\n",
        "\n",
        "print('Usando la ecuación de la normal:', infectados)\n"
      ],
      "metadata": {
        "colab": {
          "base_uri": "https://localhost:8080/"
        },
        "id": "i_j-L9ZLVn6W",
        "outputId": "0b388d1b-6d62-48b9-dd01-ee6f826da6c5"
      },
      "execution_count": 190,
      "outputs": [
        {
          "output_type": "stream",
          "name": "stdout",
          "text": [
            "Usando la ecuación de la normal: 1400945.8001787115\n"
          ]
        }
      ]
    }
  ]
}